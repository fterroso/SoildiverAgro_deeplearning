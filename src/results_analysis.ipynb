{
 "cells": [
  {
   "cell_type": "markdown",
   "metadata": {},
   "source": [
    "## Analysis of the results obtained by the models"
   ]
  },
  {
   "cell_type": "code",
   "execution_count": null,
   "metadata": {},
   "outputs": [],
   "source": [
    "from pathlib import Path\n",
    "import pandas as pd\n",
    "import numpy as np\n",
    "from tqdm import tqdm\n",
    "from matplotlib import pyplot as plt\n",
    "import matplotlib.ticker as mticker\n",
    "import re\n",
    "\n",
    "import os"
   ]
  },
  {
   "cell_type": "code",
   "execution_count": null,
   "metadata": {},
   "outputs": [],
   "source": [
    "REPORTS_DIRECTORY = Path(\"..\") / \"reports_strat\"\n",
    "RESULTS_DIRECTORY = Path(\"..\") / \"results_strat\"\n",
    "FIGURES_DIRECTORY = Path(\"..\") / \"figures_strat\" / \"metrics\"\n",
    "DATA_DIRECTORY = Path(\"..\") / \"input\"\n",
    "\n",
    "FIGURES_DIRECTORY.mkdir(parents=True, exist_ok=True)\n",
    "\n",
    "outputs = pd.read_pickle(DATA_DIRECTORY / \"outputs_wp3_wp5.pkl\") # blue, green, orange and pink columns\n",
    "property_name_list = outputs.columns.tolist()\n",
    "\n",
    "metrics_name_list = 'R2 RMSE MAE'.split()\n",
    "models_name_list= 'PLS CNN2D CNN2D_DI CNN2D_DIPCA MLPCWT6_DI'.split()\n",
    "\n",
    "#model names used in the paper.\n",
    "model_names_for_paper= {'PLS': 'PLS', \n",
    "                        'CNN2D': '$CNN_{cwt}$', \n",
    "                        'CNN2D_DI': '$CNN_{cwt,cp}$',\n",
    "                        'CNN2D_DIPCA': '$CNN_{cwt,pca(cp)}$',\n",
    "                        'MLPCWT6_DI': 'MLP'}\n",
    "\n",
    "target_cwt_coeff= 5\n",
    "num_strats = 6"
   ]
  },
  {
   "cell_type": "code",
   "execution_count": null,
   "metadata": {},
   "outputs": [],
   "source": [
    "results_lst = []\n",
    "property_no_data_lst= []\n",
    "best_results_dict = {}\n",
    "best_results_pollutant_dict = {}\n",
    "  \n",
    "for property_name in tqdm(property_name_list, desc=\"Properties...\"):\n",
    "    property_results_lst = []\n",
    "    try:\n",
    "        for strat_index in tqdm(range(1,num_strats+1), desc=\"Input strats...\"):\n",
    "            property_name_clean= re.sub(r'[^\\w\\s]', '', property_name)\n",
    "            results_df = pd.read_csv(REPORTS_DIRECTORY / f\"report_{property_name_clean}_input_priority_{strat_index}.csv\", index_col='model')   \n",
    "            _df = results_df.copy()\n",
    "            _df= _df[metrics_name_list]\n",
    "            _df= _df[_df.index.isin(models_name_list)]\n",
    "\n",
    "            _df['property']= property_name\n",
    "            _df['strat']= strat_index\n",
    "            results_lst.append(_df)\n",
    "            property_results_lst.append(_df)\n",
    "\n",
    "            for metric in metrics_name_list:\n",
    "                ax= _df[metric].replace([np.inf, -np.inf], np.nan).dropna().plot(grid=True, kind='bar')\n",
    "                ax.set_ylabel(metric, fontsize=16)\n",
    "                formatter = mticker.ScalarFormatter(useMathText=True)\n",
    "                formatter.set_scientific(False)\n",
    "                ax.yaxis.set_major_formatter(formatter)\n",
    "                ax.set_title(property_name)\n",
    "                plt.tight_layout()\n",
    "                plt.savefig(FIGURES_DIRECTORY / f\"{property_name_clean}_{metric}_input_priority_{strat_index}.pdf\", dpi=600)\n",
    "                plt.show()\n",
    "            \n",
    "        property_results_df= pd.concat(property_results_lst, axis=0)    \n",
    "        for metric in tqdm(metrics_name_list, desc=\"Best metric...\"):\n",
    "\n",
    "            if metric != 'R2':\n",
    "                best_value = property_results_df[metric].min()\n",
    "                best_model = property_results_df[metric].idxmin()\n",
    "            else:\n",
    "                best_value = property_results_df[metric].max()\n",
    "                best_model = property_results_df[metric].idxmax()\n",
    "            \n",
    "            best_strat = property_results_df[property_results_df[metric]==best_value].iloc[0]['strat']\n",
    "\n",
    "            best_results = best_results_dict.get(metric, [])\n",
    "            best_results.append({'property': property_name, 'best_value': best_value, 'best_model': best_model, 'best_strat':best_strat})\n",
    "            best_results_dict[metric]= best_results\n",
    "\n",
    "            best_results_prop = best_results_pollutant_dict.get(property_name_clean, [])\n",
    "            best_results_prop.append({'metric': metric, 'best_value': best_value, 'best_model': best_model, 'best_strat':best_strat})\n",
    "            best_results_pollutant_dict[property_name_clean]= best_results_prop\n",
    "\n",
    "            property_metric_df = property_results_df[[metric, 'strat']]\n",
    "            property_metric_df= property_metric_df.reset_index().pivot(index='strat', columns='model', values=metric)\n",
    "            ax= property_metric_df.plot(grid=True, kind='line', marker='o')\n",
    "            ax.set_ylabel(metric, fontsize=16)\n",
    "            ax.set_xlabel(\"Input strat.\", fontsize=16)\n",
    "            formatter = mticker.ScalarFormatter(useMathText=True)\n",
    "            formatter.set_scientific(False)\n",
    "            ax.yaxis.set_major_formatter(formatter)\n",
    "            ax.set_title(property_name)\n",
    "            ax.legend(loc='upper left', bbox_to_anchor=(1, 1))\n",
    "\n",
    "            plt.tight_layout()\n",
    "            plt.savefig(FIGURES_DIRECTORY / f\"{property_name_clean}_{metric}_evol.pdf\", dpi=600)\n",
    "            plt.show()\n",
    "    except Exception as e:\n",
    "        print(\"ERROR::\", property_name, e)\n",
    "        property_no_data_lst.append(property_name)\n"
   ]
  },
  {
   "cell_type": "code",
   "execution_count": null,
   "metadata": {},
   "outputs": [],
   "source": [
    "all_results_df = pd.concat(results_lst,axis=0).reset_index()\n",
    "all_results_df"
   ]
  },
  {
   "cell_type": "code",
   "execution_count": null,
   "metadata": {},
   "outputs": [],
   "source": [
    "# Transformar el DataFrame para tener dos niveles de columnas\n",
    "df_pivot = all_results_df.melt(id_vars=[\"property\", \"model\", \"strat\"], var_name=\"metric\", value_name=\"value\")\n",
    "df_pivot = df_pivot.pivot(index=\"property\", columns=[\"model\", \"strat\", \"metric\"], values=\"value\")\n",
    "\n",
    "df_pivot.columns = pd.MultiIndex.from_tuples(df_pivot.columns, names=[\"Model\", \"Strat\", \"Metric\"])\n",
    "\n",
    "df_pivot.reset_index(inplace=True)\n",
    "df_pivot= df_pivot.set_index(\"property\")\n",
    "print(df_pivot)\n",
    "df_pivot.to_csv(REPORTS_DIRECTORY / \"all_metrics.csv\")"
   ]
  },
  {
   "cell_type": "code",
   "execution_count": null,
   "metadata": {},
   "outputs": [],
   "source": [
    "def mean_plot(df, metric, strats=None):\n",
    "    clean_df = df.replace([np.inf, -np.inf], np.nan).dropna(subset=[metric])\n",
    "\n",
    "\n",
    "    if strats:\n",
    "        clean_df = clean_df[clean_df['strat'].isin(strats)]\n",
    "    \n",
    "    clean_df['model']= clean_df['model'].map(model_names_for_paper)\n",
    "\n",
    "    _mean= clean_df.groupby('model')[metric].mean()\n",
    "    _std= clean_df.groupby('model')[metric].std()\n",
    "    ax=_mean.plot(grid=True, kind='bar', yerr=_std)\n",
    "    ax.set_ylabel(metric, fontsize=15)\n",
    "    ax.set_xlabel('Model', fontsize=15)\n",
    "\n",
    "    formatter = mticker.ScalarFormatter(useMathText=True)\n",
    "    formatter.set_scientific(False)\n",
    "    ax.yaxis.set_major_formatter(formatter)\n",
    "    if metric != 'R2':\n",
    "        ax.set_yscale('log')\n",
    "\n",
    "    for barra in ax.patches:\n",
    "        altura = barra.get_height()\n",
    "        ax.text(barra.get_x() + barra.get_width()/2, altura, f'{altura:.2f}', \n",
    "            ha='center', va='bottom', fontsize=9)\n",
    "\n",
    "    plt.tight_layout()\n",
    "    plt.savefig(FIGURES_DIRECTORY / f\"{metric}_mean.pdf\", dpi=600)\n",
    "    plt.show()\n",
    "\n",
    "for m in metrics_name_list:\n",
    "    mean_plot(all_results_df, m)\n"
   ]
  },
  {
   "cell_type": "markdown",
   "metadata": {},
   "source": [
    "Generate table with best model per property and evaluation metric"
   ]
  },
  {
   "cell_type": "code",
   "execution_count": null,
   "metadata": {},
   "outputs": [],
   "source": [
    "for metric, best_result in best_results_dict.items():\n",
    "    best_result_df= pd.DataFrame(best_result)\n",
    "    best_result_df= best_result_df.set_index('property')\n",
    "    best_result_df.to_csv(REPORTS_DIRECTORY / f\"best_report_metric_{metric}.csv\")\n",
    "\n",
    "    print(\"*\"* 10, metric, \"*\"* 10)\n",
    "    print(best_result_df)\n",
    "    print(\"*\"* 20)"
   ]
  },
  {
   "cell_type": "code",
   "execution_count": null,
   "metadata": {},
   "outputs": [],
   "source": [
    "best_results_dict"
   ]
  },
  {
   "cell_type": "code",
   "execution_count": null,
   "metadata": {},
   "outputs": [],
   "source": [
    "best_result_df.head()"
   ]
  },
  {
   "cell_type": "code",
   "execution_count": null,
   "metadata": {},
   "outputs": [],
   "source": [
    "for metric, best_result in best_results_dict.items():\n",
    "        best_result_df= pd.DataFrame(best_result)\n",
    "        best_result_df ['best_model']= best_result_df ['best_model'].map(model_names_for_paper)\n",
    "        counts = best_result_df.groupby([\"best_model\", \"best_strat\"]).size().reset_index(name=\"count\")\n",
    "        counts = counts.sort_values(by=\"best_strat\")\n",
    "\n",
    "        # Graficar el diagrama de barras\n",
    "        plt.figure(figsize=(10, 6))\n",
    "        plt.bar(x=[f\"{model}-{strat}\" for model, strat in zip(counts[\"best_model\"], counts[\"best_strat\"])],\n",
    "                height=counts[\"count\"],\n",
    "                color='skyblue')\n",
    "        plt.xlabel(\"Model-input priority\", fontsize= 16)\n",
    "        plt.ylabel(\"Frequency\", fontsize= 16)\n",
    "        plt.xticks(rotation=90)\n",
    "        plt.tight_layout()\n",
    "        plt.grid(True)\n",
    "\n",
    "        plt.savefig(FIGURES_DIRECTORY/ f\"frequency_model_input_{metric}.png\")\n",
    "        plt.show()"
   ]
  },
  {
   "cell_type": "code",
   "execution_count": null,
   "metadata": {},
   "outputs": [],
   "source": [
    "for metric, best_result in best_results_dict.items():\n",
    "    best_result_df= pd.DataFrame(best_result)\n",
    "    best_result_df ['best_model']= best_result_df ['best_model'].map(model_names_for_paper)\n",
    "\n",
    "    counts = best_result_df[\"best_model\"].value_counts().reset_index()\n",
    "    counts.columns = [\"best_model\", \"count\"]\n",
    "\n",
    "    # Graficar el diagrama de barras\n",
    "    plt.figure(figsize=(10, 6))\n",
    "    plt.bar(x=counts[\"best_model\"], height=counts[\"count\"], color='skyblue')\n",
    "    plt.xlabel(\"Model\", fontsize= 16)\n",
    "    plt.ylabel(\"Frequency\", fontsize= 16)\n",
    "    plt.xticks(rotation=45)\n",
    "    plt.tight_layout()\n",
    "    plt.grid(True)\n",
    "    plt.savefig(FIGURES_DIRECTORY/ f\"frequency_model_{metric}.png\")\n",
    "    plt.show()\n"
   ]
  },
  {
   "cell_type": "code",
   "execution_count": null,
   "metadata": {},
   "outputs": [],
   "source": [
    "\n",
    "for metric, best_result in best_results_dict.items():\n",
    "    best_result_df= pd.DataFrame(best_result)\n",
    "    counts = best_result_df[\"best_strat\"].value_counts().reset_index()\n",
    "    counts.columns = [\"best_strat\", \"count\"]\n",
    "\n",
    "    # Graficar el diagrama de barras\n",
    "    plt.figure(figsize=(10, 6))\n",
    "    plt.bar(x=counts[\"best_strat\"], height=counts[\"count\"], color='skyblue')\n",
    "    plt.xlabel(\"CP group\", fontsize= 16)\n",
    "    plt.ylabel(\"Frequency\", fontsize= 16)\n",
    "    plt.xticks(rotation=45)\n",
    "    plt.tight_layout()\n",
    "    plt.grid(True)\n",
    "    plt.savefig(FIGURES_DIRECTORY/ f\"frequency_input_priority_{metric}.png\")\n",
    "    plt.show()"
   ]
  },
  {
   "cell_type": "code",
   "execution_count": null,
   "metadata": {},
   "outputs": [],
   "source": [
    "for property, best_result in best_results_pollutant_dict.items():\n",
    "    best_prop_result_df= pd.DataFrame(best_result)\n",
    "    best_prop_result_df= best_prop_result_df.set_index('metric')\n",
    "    best_prop_result_df.to_csv(REPORTS_DIRECTORY / f\"best_report_property_{property}.csv\")\n",
    "\n",
    "    print(\"*\"* 10, property, \"*\"* 10)\n",
    "    print(best_prop_result_df)\n",
    "    print(\"*\"* 20)"
   ]
  },
  {
   "cell_type": "code",
   "execution_count": null,
   "metadata": {},
   "outputs": [],
   "source": [
    "print(\"That's all folks!\")"
   ]
  }
 ],
 "metadata": {
  "kernelspec": {
   "display_name": "pedoclimatic_env",
   "language": "python",
   "name": "python3"
  },
  "language_info": {
   "codemirror_mode": {
    "name": "ipython",
    "version": 3
   },
   "file_extension": ".py",
   "mimetype": "text/x-python",
   "name": "python",
   "nbconvert_exporter": "python",
   "pygments_lexer": "ipython3",
   "version": "3.10.13"
  }
 },
 "nbformat": 4,
 "nbformat_minor": 2
}
